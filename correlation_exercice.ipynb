{
 "cells": [
  {
   "cell_type": "code",
   "execution_count": null,
   "outputs": [],
   "source": [
    "import pandas as pd\n",
    "from scipy import stats\n",
    "import numpy as np\n",
    "import scikit_posthocs as sp\n",
    "import matplotlib.pyplot as plt\n",
    "import seaborn as sns"
   ],
   "metadata": {
    "collapsed": false,
    "pycharm": {
     "name": "#%%\n"
    }
   }
  },
  {
   "cell_type": "code",
   "execution_count": null,
   "outputs": [],
   "source": [
    "df = pd.read_csv('Downloads/GeorgeData.csv', sep=';')\n",
    "df.shape"
   ],
   "metadata": {
    "collapsed": false,
    "pycharm": {
     "name": "#%%\n"
    }
   }
  },
  {
   "cell_type": "code",
   "execution_count": null,
   "outputs": [],
   "source": [
    "standard_deviations = {\"Value\": df['Value'].std(), \"Step\": df['Step'].std()}\n",
    "mean = {\"Value\": df['Value'].mean(), \"Step\": df['Step'].mean()}"
   ],
   "metadata": {
    "collapsed": false,
    "pycharm": {
     "name": "#%%\n"
    }
   }
  },
  {
   "cell_type": "code",
   "execution_count": null,
   "outputs": [],
   "source": [
    "stats.pearsonr(df['Step'], df['Value'])"
   ],
   "metadata": {
    "collapsed": false,
    "pycharm": {
     "name": "#%%\n"
    }
   }
  },
  {
   "cell_type": "code",
   "execution_count": null,
   "outputs": [],
   "source": [
    "df.corr(method='spearman')"
   ],
   "metadata": {
    "collapsed": false,
    "pycharm": {
     "name": "#%%\n"
    }
   }
  },
  {
   "cell_type": "code",
   "execution_count": null,
   "outputs": [],
   "source": [
    "standard_deviations"
   ],
   "metadata": {
    "collapsed": false,
    "pycharm": {
     "name": "#%%\n"
    }
   }
  },
  {
   "cell_type": "code",
   "execution_count": null,
   "outputs": [],
   "source": [
    "mean"
   ],
   "metadata": {
    "collapsed": false,
    "pycharm": {
     "name": "#%%\n"
    }
   }
  },
  {
   "cell_type": "code",
   "execution_count": null,
   "outputs": [],
   "source": [
    "plot = df.plot(x='Step', y='Value')\n",
    "plot.axhline(df['Value'].mean() + standard_deviations.get('Value'), color=\"red\", linestyle=\"--\")\n",
    "plot.axhline(df['Value'].mean() - standard_deviations.get('Value'), color=\"red\", linestyle=\"--\")\n",
    "plot.axhline(df['Value'].mean(), color=\"yellow\", linestyle=\"--\")\n",
    "\n",
    "print(plot)"
   ],
   "metadata": {
    "collapsed": false,
    "pycharm": {
     "name": "#%%\n"
    }
   }
  },
  {
   "cell_type": "code",
   "execution_count": null,
   "outputs": [],
   "source": [
    "ax = sns.scatterplot(x=\"Step\", y=\"Value\", data=df);\n",
    "ax.set_title(\"cooleration on Steps and Value\")\n",
    "ax.set_xlabel(\"Step\")\n",
    "ax.set_ylabel(\"Value\")\n",
    "sns.lmplot(x=\"Step\", y=\"Value\", data=df);"
   ],
   "metadata": {
    "collapsed": false,
    "pycharm": {
     "name": "#%%\n"
    }
   }
  },
  {
   "cell_type": "raw",
   "source": [
    "# RESULT"
   ],
   "metadata": {
    "collapsed": false,
    "pycharm": {
     "name": "#%% raw\n"
    }
   }
  },
  {
   "cell_type": "markdown",
   "source": [
    "Hypothesis Testing of correlation:\n",
    "\n",
    "Ho: No correlation, ρ = 0\n",
    "H1: There is correlation ρ != 0\n",
    "\n",
    "In our test:\n",
    "\n",
    "Test Statistic: r=0.2359888538419508\n",
    "significance level: 5%\n",
    "\n",
    "n = 55\n",
    "\n",
    "p_value = 0.153680101444212\n",
    "\n",
    "For n = 55 critical value is 0.2201\n",
    "\n",
    "0.153680101444212 < 0.2201 ==> p_value < critical_value\n",
    "\n",
    "Critical value is greater than the statics value (p_value) so we cannot reject Ho.\n",
    "That means that there not a correlation between the 2 data fields.\n"
   ],
   "metadata": {
    "collapsed": false,
    "pycharm": {
     "name": "#%% md\n"
    }
   }
  }
 ],
 "metadata": {
  "kernelspec": {
   "display_name": "Python 3",
   "language": "python",
   "name": "python3"
  },
  "language_info": {
   "codemirror_mode": {
    "name": "ipython",
    "version": 2
   },
   "file_extension": ".py",
   "mimetype": "text/x-python",
   "name": "python",
   "nbconvert_exporter": "python",
   "pygments_lexer": "ipython2",
   "version": "2.7.6"
  }
 },
 "nbformat": 4,
 "nbformat_minor": 0
}